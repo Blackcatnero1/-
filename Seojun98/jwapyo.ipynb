{
 "cells": [
  {
   "cell_type": "code",
   "execution_count": 14,
   "metadata": {},
   "outputs": [
    {
     "name": "stdout",
     "output_type": "stream",
     "text": [
      "{'documents': [{'address': {'address_name': '서울 강남구 도곡동 467-17', 'b_code': '1168011800', 'h_code': '1168065600', 'main_address_no': '467', 'mountain_yn': 'N', 'region_1depth_name': '서울', 'region_2depth_name': '강남구', 'region_3depth_h_name': '도곡2동', 'region_3depth_name': '도곡동', 'sub_address_no': '17', 'x': '127.054490523453', 'y': '37.4897107879722'}, 'address_name': '서울 강남구 도곡동 467-17', 'address_type': 'REGION_ADDR', 'road_address': {'address_name': '서울 강남구 언주로30길 57', 'building_name': '타워팰리스', 'main_building_no': '57', 'region_1depth_name': '서울', 'region_2depth_name': '강남구', 'region_3depth_name': '도곡동', 'road_name': '언주로30길', 'sub_building_no': '', 'underground_yn': 'N', 'x': '127.053964659634', 'y': '37.4894573055974', 'zone_no': '06293'}, 'x': '127.054490523453', 'y': '37.4897107879722'}], 'meta': {'is_end': True, 'pageable_count': 1, 'total_count': 1}}\n"
     ]
    }
   ],
   "source": [
    "# 동 + 지번으로 좌표 구하기\n",
    "import requests\n",
    "\n",
    "REST_API_KEY = '카카오 REST API 키'\n",
    "\n",
    "url = 'https://dapi.kakao.com/v2/local/search/address.json'\n",
    "headers = {\n",
    "    'Authorization': 'KakaoAK ' + REST_API_KEY\n",
    "}\n",
    "params = {\n",
    "    'query': '도곡동 467-17'\n",
    "}\n",
    "\n",
    "response = requests.get(url, headers=headers, params=params)\n",
    "\n",
    "print(response.json())"
   ]
  },
  {
   "cell_type": "code",
   "execution_count": null,
   "metadata": {},
   "outputs": [],
   "source": []
  }
 ],
 "metadata": {
  "kernelspec": {
   "display_name": "Python 3",
   "language": "python",
   "name": "python3"
  },
  "language_info": {
   "codemirror_mode": {
    "name": "ipython",
    "version": 3
   },
   "file_extension": ".py",
   "mimetype": "text/x-python",
   "name": "python",
   "nbconvert_exporter": "python",
   "pygments_lexer": "ipython3",
   "version": "3.12.1"
  }
 },
 "nbformat": 4,
 "nbformat_minor": 2
}
